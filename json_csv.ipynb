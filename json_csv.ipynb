{
 "cells": [
  {
   "source": [
    "итак модули json и csv\n",
    "\n",
    "файлы формата json это файлы, устройством ОЧЕНЬ похожие на питоновские словари\n",
    "\n",
    "в них есть ключи и значения (значениями могут быть строки, числа, списки и тоже словари)"
   ],
   "cell_type": "markdown",
   "metadata": {}
  },
  {
   "source": [
    "так как они очень похожи на словари очень удобно с ними работать внутри программы как со словарями,\n",
    "поэтому в основном нас интересует лишь две операции: как из жсона читать и как в него записывать"
   ],
   "cell_type": "markdown",
   "metadata": {}
  },
  {
   "source": [
    "для чтения используются функции `json.load()` и `json.loads()` отличающиеся тем, что первый принимает на вход файл, а второй - строку"
   ],
   "cell_type": "markdown",
   "metadata": {}
  },
  {
   "cell_type": "code",
   "execution_count": 1,
   "metadata": {},
   "outputs": [
    {
     "output_type": "stream",
     "name": "stdout",
     "text": [
      "{'quiz': {'sport': {'q1': {'question': 'Which one is correct team name in NBA?', 'options': ['New York Bulls', 'Los Angeles Kings', 'Golden State Warriros', 'Huston Rocket'], 'answer': 'Huston Rocket'}}, 'maths': {'q1': {'question': '5 + 7 = ?', 'options': ['10', '11', '12', '13'], 'answer': '12'}, 'q2': {'question': '12 - 8 = ?', 'options': ['1', '2', '3', '4'], 'answer': '4'}}}}\n"
     ]
    }
   ],
   "source": [
    "import json\n",
    "\n",
    "json_dict = {}\n",
    "filename = 'bruh.json'\n",
    "with open(filename, 'r', encoding='utf-8') as f:\n",
    "    json_dict = json.load(f)\n",
    "\n",
    "print(json_dict)"
   ]
  },
  {
   "cell_type": "code",
   "execution_count": 2,
   "metadata": {},
   "outputs": [
    {
     "output_type": "stream",
     "name": "stdout",
     "text": [
      "{'apple': 'fruit', 'tomato': 'vegetable'}\n"
     ]
    }
   ],
   "source": [
    "second_json_dict = {}\n",
    "json_string = '{\"apple\": \"fruit\", \"tomato\": \"vegetable\"}'\n",
    "second_json_dict = json.loads(json_string)\n",
    "\n",
    "print(second_json_dict)"
   ]
  },
  {
   "source": [
    "удостоверимся что с ними можно работать как со словарями"
   ],
   "cell_type": "markdown",
   "metadata": {}
  },
  {
   "cell_type": "code",
   "execution_count": 3,
   "metadata": {},
   "outputs": [
    {
     "output_type": "stream",
     "name": "stdout",
     "text": [
      "Which one is correct team name in NBA?\n5 + 7 = ?\n"
     ]
    }
   ],
   "source": [
    "for theme in json_dict['quiz']:\n",
    "    print(json_dict['quiz'][theme]['q1']['question'])"
   ]
  },
  {
   "cell_type": "code",
   "execution_count": 4,
   "metadata": {},
   "outputs": [
    {
     "output_type": "stream",
     "name": "stdout",
     "text": [
      "['tomato', 'apple']\n"
     ]
    }
   ],
   "source": [
    "print(sorted(second_json_dict, key=second_json_dict.get, reverse=True))"
   ]
  },
  {
   "source": [
    "для записи .json файлов используются функции `json.dump()` и `json.dumps()` \n",
    "\n",
    "различие между ними то же самое: первое для файлов а второе для строк\n",
    "\n",
    "поэтому у первой два позиционных аргумента: словарь и файл, а у второй только словарь"
   ],
   "cell_type": "markdown",
   "metadata": {}
  },
  {
   "cell_type": "code",
   "execution_count": 5,
   "metadata": {},
   "outputs": [
    {
     "output_type": "stream",
     "name": "stdout",
     "text": [
      "{\"Chomsky\": \"\\u043a\\u0440\\u0443\\u0442\\u043e\", \"Halle\": \"\\u043a\\u043b\\u0430\\u0441\\u0441\", \"Preminger\": \"\\u043a\\u0440\\u0430\\u0441\\u0430\\u0432\\u0447\\u0438\\u043a\"}\n"
     ]
    }
   ],
   "source": [
    "filename = 'bruh_two_ugly.json'\n",
    "dic = {'Chomsky': 'круто', 'Halle': 'класс', 'Preminger': 'красавчик'}\n",
    "with open(filename, 'w', encoding='utf-8') as f:\n",
    "    json.dump(dic, f)\n",
    "\n",
    "with open(filename, 'r', encoding='utf-8') as f:\n",
    "    for line in f.readlines():\n",
    "        print(line)"
   ]
  },
  {
   "source": [
    "сохранилось не очень красиво, правда? во-первых юникод-символы полетели, а во-вторых нет красивого форматирования\n",
    "\n",
    "для этого у обеих функций есть два опциональных аргумента: `ensure_ascii=` и `indent=`\n",
    "\n",
    "первая является булевой; влияет только на то, будет ли нормальная запись юникод-символов\n",
    "\n",
    "вторая же устроена хитрее: если её нет, то жсон записывается одной строкой. если она есть, то каждый новый элемент пишется с новой строки и с отступом, который задается `indent=`. ей можно скармливать как строки, так и целые числа; в случае целых чисел отступ будет равен целому числу пробелов, в случае строк - полученной строке"
   ],
   "cell_type": "markdown",
   "metadata": {}
  },
  {
   "cell_type": "code",
   "execution_count": 6,
   "metadata": {},
   "outputs": [
    {
     "output_type": "stream",
     "name": "stdout",
     "text": [
      "{\n\n   \"Chomsky\": \"круто\",\n\n   \"Halle\": \"класс\",\n\n   \"Preminger\": \"красавчик\"\n\n}\n"
     ]
    }
   ],
   "source": [
    "filename = 'bruh_two_int.json'\n",
    "\n",
    "with open(filename, 'w', encoding='utf-8') as f:\n",
    "    json.dump(dic, f, ensure_ascii=False, indent=3)\n",
    "\n",
    "with open(filename, 'r', encoding='utf-8') as f:\n",
    "    for line in f.readlines():\n",
    "        print(line)"
   ]
  },
  {
   "cell_type": "code",
   "execution_count": 7,
   "metadata": {},
   "outputs": [
    {
     "output_type": "stream",
     "name": "stdout",
     "text": [
      "{\n\n_отступ_\"Chomsky\": \"круто\",\n\n_отступ_\"Halle\": \"класс\",\n\n_отступ_\"Preminger\": \"красавчик\"\n\n}\n"
     ]
    }
   ],
   "source": [
    "filename = 'bruh_two_string.json'\n",
    "\n",
    "with open(filename, 'w', encoding='utf-8') as f:\n",
    "    json.dump(dic, f, ensure_ascii=False, indent='_отступ_')\n",
    "\n",
    "with open(filename, 'r', encoding='utf-8') as f:\n",
    "    for line in f.readlines():\n",
    "        print(line)"
   ]
  },
  {
   "source": [
    "то же самое актуально и для `json.dumps()`"
   ],
   "cell_type": "markdown",
   "metadata": {}
  },
  {
   "cell_type": "code",
   "execution_count": 8,
   "metadata": {},
   "outputs": [
    {
     "output_type": "stream",
     "name": "stdout",
     "text": [
      "{\n_отступ_\"Chomsky\": \"круто\",\n_отступ_\"Halle\": \"класс\",\n_отступ_\"Preminger\": \"красавчик\"\n}\n"
     ]
    }
   ],
   "source": [
    "string_json = ''\n",
    "string_json = json.dumps(dic, ensure_ascii=False, indent='_отступ_')\n",
    "\n",
    "print(string_json)"
   ]
  },
  {
   "source": [
    "подробнее про json вот тут: [ссылка на документацию](https://docs.python.org/3/library/json.html)"
   ],
   "cell_type": "markdown",
   "metadata": {}
  },
  {
   "source": [
    "файлы формата csv это обычно файлы состоящие из строки-заголовка и строк-значений\n",
    "\n",
    "в строке заголовке задаются названия параметров разделенные каким-нибудь символом (обычно запятой)\n",
    "в строке значении находится набор значений этих параметров"
   ],
   "cell_type": "markdown",
   "metadata": {}
  },
  {
   "cell_type": "code",
   "execution_count": 9,
   "metadata": {},
   "outputs": [
    {
     "output_type": "stream",
     "name": "stdout",
     "text": [
      "\"Lastname\",\"Firstname\",\"SSN\",\"Test1\",\"Test2\",\"Test3\",\"Test4\",\"Final\",\"Grade\"\n\n\"Alfalfa\",\"Aloysius\",\"123-45-6789\",40.0,90.0,100.0,83.0,49.0,\"D-\"\n\n\"Alfred\",\"University\",\"123-12-1234\",41.0,97.0,96.0,97.0,48.0,\"D+\"\n\n\"Gerty\",\"Gramma\",\"567-89-0123\",41.0,80.0,60.0,40.0,44.0,\"C\"\n\n\"Android\",\"Electric\",\"087-65-4321\",42.0,23.0,36.0,45.0,47.0,\"B-\"\n\n\"Bumpkin\",\"Fred\",\"456-78-9012\",43.0,78.0,88.0,77.0,45.0,\"A-\"\n\n\"Rubble\",\"Betty\",\"234-56-7890\",44.0,90.0,80.0,90.0,46.0,\"C-\"\n\n\"Noshow\",\"Cecil\",\"345-67-8901\",45.0,11.0,-1.0,4.0,43.0,\"F\"\n\n\"Buff\",\"Bif\",\"632-79-9939\",46.0,20.0,30.0,40.0,50.0,\"B+\"\n\n\"Airpump\",\"Andrew\",\"223-45-6789\",49.01.0,90.0,100.0,83.0,100.0,\"A\"\n\n\"Backus\",\"Jim\",\"143-12-1234\",48.0,1.0,97.0,96.0,97.0,\"A+\"\n\n\"Carnivore\",\"Art\",\"565-89-0123\",44.0,1.0,80.0,60.0,40.0,\"D+\"\n\n\"Dandy\",\"Jim\",\"087-75-4321\",47.0,1.0,23.0,36.0,45.0,\"C+\"\n\n\"Elephant\",\"Ima\",\"456-71-9012\",45.0,1.0,78.0,88.0,77.0,\"B-\"\n\n\"Franklin\",\"Benny\",\"234-56-2890\",50.0,1.0,90.0,80.0,90.0,\"B-\"\n\n\"George\",\"Boy\",\"345-67-3901\",40.0,1.0,11.0,-1.0,4.0,\"B\"\n\n\"Heffalump\",\"Harvey\",\"632-79-9439\",30.0,1.0,20.0,30.0,40.0,\"C\"\n\n"
     ]
    }
   ],
   "source": [
    "filename = 'syro.csv'\n",
    "with open(filename, 'r', encoding='utf-8') as f:\n",
    "    for line in f.readlines():\n",
    "        print(line)"
   ]
  },
  {
   "source": [
    "а как его кушать?\n",
    "есть два варианта: `csv.reader` и `csv.DictReader`\n",
    "первый будет выдавать список значений, а второй словарь ключ: значение. на практике рекомендую второе\n",
    "\n",
    "ВАЖНОЕ замечание: оба работают так же как и f.read() - обрабатывают по строке файла за раз. из-за схожего типа работы лучше их либо не использовать в одном `open()`, либо делать это с пониманием дела"
   ],
   "cell_type": "markdown",
   "metadata": {}
  },
  {
   "cell_type": "code",
   "execution_count": 10,
   "metadata": {},
   "outputs": [
    {
     "output_type": "stream",
     "name": "stdout",
     "text": [
      "Lastname;Firstname;SSN;Test1;Test2;Test3;Test4;Final;Grade\nAlfalfa;Aloysius;123-45-6789;40.0;90.0;100.0;83.0;49.0;D-\nAlfred;University;123-12-1234;41.0;97.0;96.0;97.0;48.0;D+\nGerty;Gramma;567-89-0123;41.0;80.0;60.0;40.0;44.0;C\nAndroid;Electric;087-65-4321;42.0;23.0;36.0;45.0;47.0;B-\nBumpkin;Fred;456-78-9012;43.0;78.0;88.0;77.0;45.0;A-\nRubble;Betty;234-56-7890;44.0;90.0;80.0;90.0;46.0;C-\nNoshow;Cecil;345-67-8901;45.0;11.0;-1.0;4.0;43.0;F\nBuff;Bif;632-79-9939;46.0;20.0;30.0;40.0;50.0;B+\nAirpump;Andrew;223-45-6789;49.01.0;90.0;100.0;83.0;100.0;A\nBackus;Jim;143-12-1234;48.0;1.0;97.0;96.0;97.0;A+\nCarnivore;Art;565-89-0123;44.0;1.0;80.0;60.0;40.0;D+\nDandy;Jim;087-75-4321;47.0;1.0;23.0;36.0;45.0;C+\nElephant;Ima;456-71-9012;45.0;1.0;78.0;88.0;77.0;B-\nFranklin;Benny;234-56-2890;50.0;1.0;90.0;80.0;90.0;B-\nGeorge;Boy;345-67-3901;40.0;1.0;11.0;-1.0;4.0;B\nHeffalump;Harvey;632-79-9439;30.0;1.0;20.0;30.0;40.0;C\n"
     ]
    }
   ],
   "source": [
    "import csv\n",
    "\n",
    "filename = 'syro.csv'\n",
    "\n",
    "with open(filename, 'r', encoding='utf-8') as csvfile:\n",
    "    reader = csv.reader(csvfile)\n",
    "    for row in reader:\n",
    "        print(';'.join(row))"
   ]
  },
  {
   "cell_type": "code",
   "execution_count": 11,
   "metadata": {},
   "outputs": [
    {
     "output_type": "stream",
     "name": "stdout",
     "text": [
      "OrderedDict([('Lastname', 'Alfalfa'), ('Firstname', 'Aloysius'), ('SSN', '123-45-6789'), ('Test1', '40.0'), ('Test2', '90.0'), ('Test3', '100.0'), ('Test4', '83.0'), ('Final', '49.0'), ('Grade', 'D-')])\nOrderedDict([('Lastname', 'Alfred'), ('Firstname', 'University'), ('SSN', '123-12-1234'), ('Test1', '41.0'), ('Test2', '97.0'), ('Test3', '96.0'), ('Test4', '97.0'), ('Final', '48.0'), ('Grade', 'D+')])\nOrderedDict([('Lastname', 'Gerty'), ('Firstname', 'Gramma'), ('SSN', '567-89-0123'), ('Test1', '41.0'), ('Test2', '80.0'), ('Test3', '60.0'), ('Test4', '40.0'), ('Final', '44.0'), ('Grade', 'C')])\nOrderedDict([('Lastname', 'Android'), ('Firstname', 'Electric'), ('SSN', '087-65-4321'), ('Test1', '42.0'), ('Test2', '23.0'), ('Test3', '36.0'), ('Test4', '45.0'), ('Final', '47.0'), ('Grade', 'B-')])\nOrderedDict([('Lastname', 'Bumpkin'), ('Firstname', 'Fred'), ('SSN', '456-78-9012'), ('Test1', '43.0'), ('Test2', '78.0'), ('Test3', '88.0'), ('Test4', '77.0'), ('Final', '45.0'), ('Grade', 'A-')])\nOrderedDict([('Lastname', 'Rubble'), ('Firstname', 'Betty'), ('SSN', '234-56-7890'), ('Test1', '44.0'), ('Test2', '90.0'), ('Test3', '80.0'), ('Test4', '90.0'), ('Final', '46.0'), ('Grade', 'C-')])\nOrderedDict([('Lastname', 'Noshow'), ('Firstname', 'Cecil'), ('SSN', '345-67-8901'), ('Test1', '45.0'), ('Test2', '11.0'), ('Test3', '-1.0'), ('Test4', '4.0'), ('Final', '43.0'), ('Grade', 'F')])\nOrderedDict([('Lastname', 'Buff'), ('Firstname', 'Bif'), ('SSN', '632-79-9939'), ('Test1', '46.0'), ('Test2', '20.0'), ('Test3', '30.0'), ('Test4', '40.0'), ('Final', '50.0'), ('Grade', 'B+')])\nOrderedDict([('Lastname', 'Airpump'), ('Firstname', 'Andrew'), ('SSN', '223-45-6789'), ('Test1', '49.01.0'), ('Test2', '90.0'), ('Test3', '100.0'), ('Test4', '83.0'), ('Final', '100.0'), ('Grade', 'A')])\nOrderedDict([('Lastname', 'Backus'), ('Firstname', 'Jim'), ('SSN', '143-12-1234'), ('Test1', '48.0'), ('Test2', '1.0'), ('Test3', '97.0'), ('Test4', '96.0'), ('Final', '97.0'), ('Grade', 'A+')])\nOrderedDict([('Lastname', 'Carnivore'), ('Firstname', 'Art'), ('SSN', '565-89-0123'), ('Test1', '44.0'), ('Test2', '1.0'), ('Test3', '80.0'), ('Test4', '60.0'), ('Final', '40.0'), ('Grade', 'D+')])\nOrderedDict([('Lastname', 'Dandy'), ('Firstname', 'Jim'), ('SSN', '087-75-4321'), ('Test1', '47.0'), ('Test2', '1.0'), ('Test3', '23.0'), ('Test4', '36.0'), ('Final', '45.0'), ('Grade', 'C+')])\nOrderedDict([('Lastname', 'Elephant'), ('Firstname', 'Ima'), ('SSN', '456-71-9012'), ('Test1', '45.0'), ('Test2', '1.0'), ('Test3', '78.0'), ('Test4', '88.0'), ('Final', '77.0'), ('Grade', 'B-')])\nOrderedDict([('Lastname', 'Franklin'), ('Firstname', 'Benny'), ('SSN', '234-56-2890'), ('Test1', '50.0'), ('Test2', '1.0'), ('Test3', '90.0'), ('Test4', '80.0'), ('Final', '90.0'), ('Grade', 'B-')])\nOrderedDict([('Lastname', 'George'), ('Firstname', 'Boy'), ('SSN', '345-67-3901'), ('Test1', '40.0'), ('Test2', '1.0'), ('Test3', '11.0'), ('Test4', '-1.0'), ('Final', '4.0'), ('Grade', 'B')])\nOrderedDict([('Lastname', 'Heffalump'), ('Firstname', 'Harvey'), ('SSN', '632-79-9439'), ('Test1', '30.0'), ('Test2', '1.0'), ('Test3', '20.0'), ('Test4', '30.0'), ('Final', '40.0'), ('Grade', 'C')])\n"
     ]
    }
   ],
   "source": [
    "filename = 'syro.csv'\n",
    "\n",
    "with open(filename, 'r', encoding='utf-8') as csvfile:\n",
    "    reader = csv.DictReader(csvfile)\n",
    "    for row in reader:\n",
    "        print(row)"
   ]
  },
  {
   "source": [
    "соответственно с `csv.DictReader` работать легче в разы потому что он сразу выдает словари нужного формата"
   ],
   "cell_type": "markdown",
   "metadata": {}
  },
  {
   "cell_type": "code",
   "execution_count": 12,
   "metadata": {},
   "outputs": [
    {
     "output_type": "stream",
     "name": "stdout",
     "text": [
      "Aloysius Alfalfa got D-\nAndrew Airpump got A\nArt Carnivore got D+\nBenny Franklin got B-\nBetty Rubble got C-\nBif Buff got B+\nBoy George got B\nCecil Noshow got F\nElectric Android got B-\nFred Bumpkin got A-\nGramma Gerty got C\nHarvey Heffalump got C\nIma Elephant got B-\nJim Backus got A+\nJim Dandy got C+\nUniversity Alfred got D+\n"
     ]
    }
   ],
   "source": [
    "filename = 'syro.csv'\n",
    "final_grades = {}\n",
    "\n",
    "with open(filename, 'r', encoding='utf-8') as csvfile:\n",
    "    reader = csv.DictReader(csvfile)\n",
    "    for row in reader:\n",
    "        name = ' '.join((row['Firstname'], row['Lastname']))\n",
    "        final_grades[name] = row['Grade']\n",
    "\n",
    "for student in sorted(final_grades):\n",
    "    print(student, final_grades[student], sep=' got ')"
   ]
  },
  {
   "source": [
    "запись в csv работает схожим образом: есть `csv.writer` а есть `csv.DictWriter`. запись в обоих идёт построчно, отличие лишь в том, что `csv.DictWriter` требует передавать ему список ключей"
   ],
   "cell_type": "markdown",
   "metadata": {}
  },
  {
   "cell_type": "code",
   "execution_count": 13,
   "metadata": {},
   "outputs": [
    {
     "output_type": "stream",
     "name": "stdout",
     "text": [
      "book,year\n\n\n\nSyntactic Structures,1957\n\n\n\nThe Minimalist Program,1995\n\n\n\nAgreement and its Failures,2014\n\n\n\n"
     ]
    }
   ],
   "source": [
    "filename = 'books.csv'\n",
    "csv_list = [['book', 'year'], ['Syntactic Structures', 1957], ['The Minimalist Program', 1995], ['Agreement and its Failures', 2014]]\n",
    "\n",
    "with open(filename, 'w', encoding='utf-8') as csvfile:\n",
    "    writer = csv.writer(csvfile)\n",
    "    for row in csv_list:\n",
    "        writer.writerow(row) #можно использовать writer.writerows(csv_list) вместо прохода по списку\n",
    "\n",
    "with open(filename, 'r', encoding='utf-8') as f:\n",
    "    for line in f.readlines():\n",
    "        print(line)"
   ]
  },
  {
   "cell_type": "code",
   "execution_count": 14,
   "metadata": {},
   "outputs": [
    {
     "output_type": "stream",
     "name": "stdout",
     "text": [
      "book,year\n\n\n\nSyntactic Structures,1957\n\n\n\nThe Minimalist Program,1995\n\n\n\nAgreement and its failures,2014\n\n\n\n"
     ]
    }
   ],
   "source": [
    "filename = 'dict_books.csv'\n",
    "csv_dict = [\n",
    "    {\n",
    "        'book': 'Syntactic Structures',\n",
    "        'year': 1957\n",
    "    },\n",
    "    {\n",
    "        'book': 'The Minimalist Program',\n",
    "        'year': 1995\n",
    "    },\n",
    "    {\n",
    "        'book': 'Agreement and its failures',\n",
    "        'year': 2014\n",
    "    }\n",
    "]\n",
    "\n",
    "with open(filename, 'w', encoding='utf-8') as csvfile:\n",
    "    writer = csv.DictWriter(csvfile, fieldnames=['book', 'year'])\n",
    "    writer.writeheader()\n",
    "    for book in csv_dict:\n",
    "        writer.writerow(book)\n",
    "\n",
    "with open(filename, 'r', encoding='utf-8') as f:\n",
    "    for line in f.readlines():\n",
    "        print(line)"
   ]
  },
  {
   "source": [
    "подробнее про csv можно почитать [тут](https://docs.python.org/3/library/csv.html)"
   ],
   "cell_type": "markdown",
   "metadata": {}
  },
  {
   "source": [
    "не судите строго"
   ],
   "cell_type": "markdown",
   "metadata": {}
  },
  {
   "cell_type": "code",
   "execution_count": null,
   "metadata": {},
   "outputs": [],
   "source": []
  }
 ],
 "metadata": {
  "kernelspec": {
   "display_name": "Python 3",
   "language": "python",
   "name": "python3"
  },
  "language_info": {
   "codemirror_mode": {
    "name": "ipython",
    "version": 3
   },
   "file_extension": ".py",
   "mimetype": "text/x-python",
   "name": "python",
   "nbconvert_exporter": "python",
   "pygments_lexer": "ipython3",
   "version": "3.7.6-final"
  }
 },
 "nbformat": 4,
 "nbformat_minor": 4
}